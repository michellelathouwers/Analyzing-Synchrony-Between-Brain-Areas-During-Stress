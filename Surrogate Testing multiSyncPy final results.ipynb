{
 "cells": [
  {
   "cell_type": "code",
   "execution_count": 1,
   "id": "fd9ee7b3",
   "metadata": {},
   "outputs": [
    {
     "name": "stdout",
     "output_type": "stream",
     "text": [
      "Requirement already satisfied: multiSyncPy in c:\\users\\michelle\\software\\anaconda3\\lib\\site-packages (0.1.2)\n",
      "Requirement already satisfied: numpy in c:\\users\\michelle\\software\\anaconda3\\lib\\site-packages (from multiSyncPy) (1.24.3)\n",
      "Requirement already satisfied: scipy in c:\\users\\michelle\\software\\anaconda3\\lib\\site-packages (from multiSyncPy) (1.11.1)\n",
      "Requirement already satisfied: scikit-learn in c:\\users\\michelle\\software\\anaconda3\\lib\\site-packages (from multiSyncPy) (1.3.0)\n",
      "Requirement already satisfied: seaborn in c:\\users\\michelle\\software\\anaconda3\\lib\\site-packages (from multiSyncPy) (0.12.2)\n",
      "Requirement already satisfied: matplotlib in c:\\users\\michelle\\appdata\\roaming\\python\\python311\\site-packages (from multiSyncPy) (3.8.4)\n",
      "Requirement already satisfied: contourpy>=1.0.1 in c:\\users\\michelle\\software\\anaconda3\\lib\\site-packages (from matplotlib->multiSyncPy) (1.0.5)\n",
      "Requirement already satisfied: cycler>=0.10 in c:\\users\\michelle\\software\\anaconda3\\lib\\site-packages (from matplotlib->multiSyncPy) (0.11.0)\n",
      "Requirement already satisfied: fonttools>=4.22.0 in c:\\users\\michelle\\software\\anaconda3\\lib\\site-packages (from matplotlib->multiSyncPy) (4.25.0)\n",
      "Requirement already satisfied: kiwisolver>=1.3.1 in c:\\users\\michelle\\software\\anaconda3\\lib\\site-packages (from matplotlib->multiSyncPy) (1.4.4)\n",
      "Requirement already satisfied: packaging>=20.0 in c:\\users\\michelle\\software\\anaconda3\\lib\\site-packages (from matplotlib->multiSyncPy) (23.1)\n",
      "Requirement already satisfied: pillow>=8 in c:\\users\\michelle\\software\\anaconda3\\lib\\site-packages (from matplotlib->multiSyncPy) (9.4.0)\n",
      "Requirement already satisfied: pyparsing>=2.3.1 in c:\\users\\michelle\\software\\anaconda3\\lib\\site-packages (from matplotlib->multiSyncPy) (3.0.9)\n",
      "Requirement already satisfied: python-dateutil>=2.7 in c:\\users\\michelle\\software\\anaconda3\\lib\\site-packages (from matplotlib->multiSyncPy) (2.8.2)\n",
      "Requirement already satisfied: joblib>=1.1.1 in c:\\users\\michelle\\software\\anaconda3\\lib\\site-packages (from scikit-learn->multiSyncPy) (1.2.0)\n",
      "Requirement already satisfied: threadpoolctl>=2.0.0 in c:\\users\\michelle\\software\\anaconda3\\lib\\site-packages (from scikit-learn->multiSyncPy) (2.2.0)\n",
      "Requirement already satisfied: pandas>=0.25 in c:\\users\\michelle\\software\\anaconda3\\lib\\site-packages (from seaborn->multiSyncPy) (2.2.2)\n",
      "Requirement already satisfied: pytz>=2020.1 in c:\\users\\michelle\\software\\anaconda3\\lib\\site-packages (from pandas>=0.25->seaborn->multiSyncPy) (2023.3.post1)\n",
      "Requirement already satisfied: tzdata>=2022.7 in c:\\users\\michelle\\software\\anaconda3\\lib\\site-packages (from pandas>=0.25->seaborn->multiSyncPy) (2023.3)\n",
      "Requirement already satisfied: six>=1.5 in c:\\users\\michelle\\software\\anaconda3\\lib\\site-packages (from python-dateutil>=2.7->matplotlib->multiSyncPy) (1.16.0)\n",
      "done loading\n"
     ]
    }
   ],
   "source": [
    "!pip install multiSyncPy\n",
    "\n",
    "import numpy as np\n",
    "import scipy.spatial\n",
    "import scipy.signal\n",
    "import scipy.stats\n",
    "import pandas as pd\n",
    "\n",
    "from matplotlib import pyplot as plt\n",
    "\n",
    "import multiSyncPy as msp\n",
    "from multiSyncPy import synchrony_metrics as sm\n",
    "print('done loading')"
   ]
  },
  {
   "cell_type": "code",
   "execution_count": 14,
   "id": "4dc9b5b0",
   "metadata": {},
   "outputs": [
    {
     "name": "stdout",
     "output_type": "stream",
     "text": [
      "Segment shuffling for stroop data\n",
      "\n",
      "Coherence:\n",
      "t-statistic: -20.340714524202184\n",
      "p-value: 6.380131374793391e-33\n",
      "\n",
      "Entropy:\n",
      "t-statistic: 13.75660010840855\n",
      "p-value: 1.477438869973136e-22\n"
     ]
    }
   ],
   "source": [
    "from scipy.stats import ttest_ind\n",
    "\n",
    "# Compare segment shuffling data to results H1 (stroop)\n",
    "df_h1 = pd.read_csv('h1_stroop_fp1_fp2.csv')\n",
    "coherenceListH1 = df_h1['Coherence'].tolist()\n",
    "entropyListH1 = df_h1['Entropy'].tolist()\n",
    "\n",
    "\n",
    "df_h1 = pd.read_csv('h1_surrogate1_stroop_fp1_fp2.csv')\n",
    "coherenceListH1sur = df_h1['Coherence'].tolist()\n",
    "entropyListH1sur = df_h1['Entropy'].tolist()\n",
    "\n",
    "print(\"Segment shuffling for stroop data (H1)\\n\")\n",
    "\n",
    "t_statistic, p_value = ttest_ind(coherenceListH1sur, coherenceListH1)\n",
    "print(\"Coherence:\")\n",
    "print(\"t-statistic:\", t_statistic)\n",
    "print(\"p-value:\", p_value)\n",
    "\n",
    "t_statistic, p_value = ttest_ind(entropyListH1sur, entropyListH1)\n",
    "print(\"\\nEntropy:\")\n",
    "print(\"t-statistic:\", t_statistic)\n",
    "print(\"p-value:\", p_value)"
   ]
  },
  {
   "cell_type": "code",
   "execution_count": 15,
   "id": "b0c3c33d",
   "metadata": {},
   "outputs": [
    {
     "name": "stdout",
     "output_type": "stream",
     "text": [
      "Segment shuffling for relax data\n",
      "\n",
      "Coherence:\n",
      "t-statistic: -22.800973365734734\n",
      "p-value: 3.073714121387953e-36\n",
      "\n",
      "Entropy:\n",
      "t-statistic: 15.528648879201548\n",
      "p-value: 1.412848405667643e-25\n"
     ]
    }
   ],
   "source": [
    "# Compare segment shuffling data to results H1 (relax)\n",
    "df_h1 = pd.read_csv('h1_relax_fp1_fp2.csv')\n",
    "coherenceListH1 = df_h1['Coherence'].tolist()\n",
    "entropyListH1 = df_h1['Entropy'].tolist()\n",
    "\n",
    "\n",
    "df_h1 = pd.read_csv('h1_surrogate1_relax_fp1_fp2.csv')\n",
    "coherenceListH1sur = df_h1['Coherence'].tolist()\n",
    "entropyListH1sur = df_h1['Entropy'].tolist()\n",
    "\n",
    "print(\"Segment shuffling for relax data (H1)\\n\")\n",
    "\n",
    "t_statistic, p_value = ttest_ind(coherenceListH1sur, coherenceListH1)\n",
    "print(\"Coherence:\")\n",
    "print(\"t-statistic:\", t_statistic)\n",
    "print(\"p-value:\", p_value)\n",
    "\n",
    "t_statistic, p_value = ttest_ind(entropyListH1sur, entropyListH1)\n",
    "print(\"\\nEntropy:\")\n",
    "print(\"t-statistic:\", t_statistic)\n",
    "print(\"p-value:\", p_value)"
   ]
  },
  {
   "cell_type": "code",
   "execution_count": 16,
   "id": "1f539d48",
   "metadata": {},
   "outputs": [
    {
     "name": "stdout",
     "output_type": "stream",
     "text": [
      "Data sliding for stroop data (H1)\n",
      "\n",
      "Coherence:\n",
      "t-statistic: 0.547674476327356\n",
      "p-value: 0.5854792740710786\n",
      "\n",
      "Entropy:\n",
      "t-statistic: 0.0\n",
      "p-value: 1.0\n"
     ]
    }
   ],
   "source": [
    "# Compare data sliding to results H1 (stroop)\n",
    "df_h1 = pd.read_csv('h1_stroop_fp1_fp2.csv')\n",
    "coherenceListH1 = df_h1['Coherence'].tolist()\n",
    "entropyListH1 = df_h1['Entropy'].tolist()\n",
    "\n",
    "\n",
    "df_h1 = pd.read_csv('h1_surrogate2_stroop_fp1_fp2.csv')\n",
    "coherenceListH1sur = df_h1['Coherence'].tolist()\n",
    "entropyListH1sur = df_h1['Entropy'].tolist()\n",
    "\n",
    "print(\"Data sliding for stroop data (H1)\\n\")\n",
    "\n",
    "t_statistic, p_value = ttest_ind(coherenceListH1sur, coherenceListH1)\n",
    "print(\"Coherence:\")\n",
    "print(\"t-statistic:\", t_statistic)\n",
    "print(\"p-value:\", p_value)\n",
    "\n",
    "t_statistic, p_value = ttest_ind(entropyListH1sur, entropyListH1)\n",
    "print(\"\\nEntropy:\")\n",
    "print(\"t-statistic:\", t_statistic)\n",
    "print(\"p-value:\", p_value)"
   ]
  },
  {
   "cell_type": "code",
   "execution_count": 17,
   "id": "8e57e164",
   "metadata": {},
   "outputs": [
    {
     "name": "stdout",
     "output_type": "stream",
     "text": [
      "Data sliding for relax data (H1)\n",
      "\n",
      "Coherence:\n",
      "t-statistic: 0.0955580793114919\n",
      "p-value: 0.9241166394701398\n",
      "\n",
      "Entropy:\n",
      "t-statistic: 0.0\n",
      "p-value: 1.0\n"
     ]
    }
   ],
   "source": [
    "# Compare data sliding to results H1 (relax)\n",
    "df_h1 = pd.read_csv('h1_relax_fp1_fp2.csv')\n",
    "coherenceListH1 = df_h1['Coherence'].tolist()\n",
    "entropyListH1 = df_h1['Entropy'].tolist()\n",
    "\n",
    "\n",
    "df_h1 = pd.read_csv('h1_surrogate2_relax_fp1_fp2.csv')\n",
    "coherenceListH1sur = df_h1['Coherence'].tolist()\n",
    "entropyListH1sur = df_h1['Entropy'].tolist()\n",
    "\n",
    "print(\"Data sliding for relax data (H1)\\n\")\n",
    "\n",
    "t_statistic, p_value = ttest_ind(coherenceListH1sur, coherenceListH1)\n",
    "print(\"Coherence:\")\n",
    "print(\"t-statistic:\", t_statistic)\n",
    "print(\"p-value:\", p_value)\n",
    "\n",
    "t_statistic, p_value = ttest_ind(entropyListH1sur, entropyListH1)\n",
    "print(\"\\nEntropy:\")\n",
    "print(\"t-statistic:\", t_statistic)\n",
    "print(\"p-value:\", p_value)"
   ]
  },
  {
   "cell_type": "code",
   "execution_count": 18,
   "id": "9e4adf90",
   "metadata": {},
   "outputs": [
    {
     "name": "stdout",
     "output_type": "stream",
     "text": [
      "Segment shuffling for stroop data (H2)\n",
      "\n",
      "Coherence:\n",
      "t-statistic: -72.97774502524572\n",
      "p-value: 1.4933081193425e-73\n",
      "\n",
      "Entropy:\n",
      "t-statistic: 32.296829827208875\n",
      "p-value: 6.6917285384062335e-47\n"
     ]
    }
   ],
   "source": [
    "# Note: for H2 the imported files have 'fp1_fp2' in the file name, but the data is from fp1 and fp7. \n",
    "\n",
    "# Compare segment shuffling data to results H2 (stroop)\n",
    "df_h1 = pd.read_csv('h2_stroop_fp1_fp2.csv')\n",
    "coherenceListH1 = df_h1['Coherence'].tolist()\n",
    "entropyListH1 = df_h1['Entropy'].tolist()\n",
    "\n",
    "\n",
    "df_h1 = pd.read_csv('h2_surrogate1_stroop_fp1_fp2.csv')\n",
    "coherenceListH1sur = df_h1['Coherence'].tolist()\n",
    "entropyListH1sur = df_h1['Entropy'].tolist()\n",
    "\n",
    "print(\"Segment shuffling for stroop data (H2)\\n\")\n",
    "\n",
    "t_statistic, p_value = ttest_ind(coherenceListH1sur, coherenceListH1)\n",
    "print(\"Coherence:\")\n",
    "print(\"t-statistic:\", t_statistic)\n",
    "print(\"p-value:\", p_value)\n",
    "\n",
    "t_statistic, p_value = ttest_ind(entropyListH1sur, entropyListH1)\n",
    "print(\"\\nEntropy:\")\n",
    "print(\"t-statistic:\", t_statistic)\n",
    "print(\"p-value:\", p_value)"
   ]
  },
  {
   "cell_type": "code",
   "execution_count": 19,
   "id": "eced25ed",
   "metadata": {},
   "outputs": [
    {
     "name": "stdout",
     "output_type": "stream",
     "text": [
      "Segment shuffling for relax data (H1)\n",
      "\n",
      "Coherence:\n",
      "t-statistic: -103.3451029096116\n",
      "p-value: 3.234965569555886e-85\n",
      "\n",
      "Entropy:\n",
      "t-statistic: 34.467617881733\n",
      "p-value: 5.814405973889399e-49\n"
     ]
    }
   ],
   "source": [
    "# Compare segment shuffling data to results H2 (relax)\n",
    "df_h1 = pd.read_csv('h2_relax_fp1_fp2.csv')\n",
    "coherenceListH1 = df_h1['Coherence'].tolist()\n",
    "entropyListH1 = df_h1['Entropy'].tolist()\n",
    "\n",
    "\n",
    "df_h1 = pd.read_csv('h2_surrogate1_relax_fp1_fp2.csv')\n",
    "coherenceListH1sur = df_h1['Coherence'].tolist()\n",
    "entropyListH1sur = df_h1['Entropy'].tolist()\n",
    "\n",
    "print(\"Segment shuffling for relax data (H2)\\n\")\n",
    "\n",
    "t_statistic, p_value = ttest_ind(coherenceListH1sur, coherenceListH1)\n",
    "print(\"Coherence:\")\n",
    "print(\"t-statistic:\", t_statistic)\n",
    "print(\"p-value:\", p_value)\n",
    "\n",
    "t_statistic, p_value = ttest_ind(entropyListH1sur, entropyListH1)\n",
    "print(\"\\nEntropy:\")\n",
    "print(\"t-statistic:\", t_statistic)\n",
    "print(\"p-value:\", p_value)"
   ]
  },
  {
   "cell_type": "code",
   "execution_count": 20,
   "id": "3efdec2b",
   "metadata": {},
   "outputs": [
    {
     "name": "stdout",
     "output_type": "stream",
     "text": [
      "Data sliding for stroop data (H2)\n",
      "\n",
      "Coherence:\n",
      "t-statistic: 0.2990053574308652\n",
      "p-value: 0.7657311701078002\n",
      "\n",
      "Entropy:\n",
      "t-statistic: 0.0\n",
      "p-value: 1.0\n"
     ]
    }
   ],
   "source": [
    "# Compare data sliding to results H2 (stroop)\n",
    "df_h1 = pd.read_csv('h2_stroop_fp1_fp2.csv')\n",
    "coherenceListH1 = df_h1['Coherence'].tolist()\n",
    "entropyListH1 = df_h1['Entropy'].tolist()\n",
    "\n",
    "\n",
    "df_h1 = pd.read_csv('h2_surrogate2_stroop_fp1_fp2.csv')\n",
    "coherenceListH1sur = df_h1['Coherence'].tolist()\n",
    "entropyListH1sur = df_h1['Entropy'].tolist()\n",
    "\n",
    "print(\"Data sliding for stroop data (H2)\\n\")\n",
    "\n",
    "t_statistic, p_value = ttest_ind(coherenceListH1sur, coherenceListH1)\n",
    "print(\"Coherence:\")\n",
    "print(\"t-statistic:\", t_statistic)\n",
    "print(\"p-value:\", p_value)\n",
    "\n",
    "t_statistic, p_value = ttest_ind(entropyListH1sur, entropyListH1)\n",
    "print(\"\\nEntropy:\")\n",
    "print(\"t-statistic:\", t_statistic)\n",
    "print(\"p-value:\", p_value)"
   ]
  },
  {
   "cell_type": "code",
   "execution_count": 21,
   "id": "8f2f2a98",
   "metadata": {},
   "outputs": [
    {
     "name": "stdout",
     "output_type": "stream",
     "text": [
      "Data sliding for relax data (H2)\n",
      "\n",
      "Coherence:\n",
      "t-statistic: -0.901326050433919\n",
      "p-value: 0.3701896812936686\n",
      "\n",
      "Entropy:\n",
      "t-statistic: 1.233344637810722\n",
      "p-value: 0.22115108418096213\n"
     ]
    }
   ],
   "source": [
    "# Compare data sliding to results H2 (relax)\n",
    "df_h1 = pd.read_csv('h2_relax_fp1_fp2.csv')\n",
    "coherenceListH1 = df_h1['Coherence'].tolist()\n",
    "entropyListH1 = df_h1['Entropy'].tolist()\n",
    "\n",
    "\n",
    "df_h1 = pd.read_csv('h2_surrogate2_relax_fp1_fp2.csv')\n",
    "coherenceListH1sur = df_h1['Coherence'].tolist()\n",
    "entropyListH1sur = df_h1['Entropy'].tolist()\n",
    "\n",
    "print(\"Data sliding for relax data (H2)\\n\")\n",
    "\n",
    "t_statistic, p_value = ttest_ind(coherenceListH1sur, coherenceListH1)\n",
    "print(\"Coherence:\")\n",
    "print(\"t-statistic:\", t_statistic)\n",
    "print(\"p-value:\", p_value)\n",
    "\n",
    "t_statistic, p_value = ttest_ind(entropyListH1sur, entropyListH1)\n",
    "print(\"\\nEntropy:\")\n",
    "print(\"t-statistic:\", t_statistic)\n",
    "print(\"p-value:\", p_value)"
   ]
  },
  {
   "cell_type": "code",
   "execution_count": 23,
   "id": "a81aff74",
   "metadata": {},
   "outputs": [
    {
     "name": "stdout",
     "output_type": "stream",
     "text": [
      "Participant shuffling for stroop data (H3)\n",
      "\n",
      "Coherence:\n",
      "t-statistic: 0.9848012603664725\n",
      "p-value: 0.3277666784080481\n",
      "\n",
      "Entropy:\n",
      "t-statistic: 0.34959849244206953\n",
      "p-value: 0.7275821823276714\n"
     ]
    }
   ],
   "source": [
    "# Compare participant shuffling data to results H3 (stroop)\n",
    "df_h1 = pd.read_csv('h3_stroop_fp1_participants.csv')\n",
    "coherenceListH1 = df_h1['Coherence'].tolist()\n",
    "entropyListH1 = df_h1['Entropy'].tolist()\n",
    "\n",
    "\n",
    "df_h1 = pd.read_csv('h3_surrogate_stroop_fp1_participants.csv')\n",
    "coherenceListH1sur = df_h1['Coherence'].tolist()\n",
    "entropyListH1sur = df_h1['Entropy'].tolist()\n",
    "\n",
    "print(\"Participant shuffling for stroop data (H3)\\n\")\n",
    "\n",
    "t_statistic, p_value = ttest_ind(coherenceListH1sur, coherenceListH1)\n",
    "print(\"Coherence:\")\n",
    "print(\"t-statistic:\", t_statistic)\n",
    "print(\"p-value:\", p_value)\n",
    "\n",
    "t_statistic, p_value = ttest_ind(entropyListH1sur, entropyListH1)\n",
    "print(\"\\nEntropy:\")\n",
    "print(\"t-statistic:\", t_statistic)\n",
    "print(\"p-value:\", p_value)"
   ]
  },
  {
   "cell_type": "code",
   "execution_count": null,
   "id": "86432f31",
   "metadata": {},
   "outputs": [],
   "source": []
  }
 ],
 "metadata": {
  "kernelspec": {
   "display_name": "Python 3 (ipykernel)",
   "language": "python",
   "name": "python3"
  },
  "language_info": {
   "codemirror_mode": {
    "name": "ipython",
    "version": 3
   },
   "file_extension": ".py",
   "mimetype": "text/x-python",
   "name": "python",
   "nbconvert_exporter": "python",
   "pygments_lexer": "ipython3",
   "version": "3.11.5"
  }
 },
 "nbformat": 4,
 "nbformat_minor": 5
}
